{
  "nbformat": 4,
  "nbformat_minor": 0,
  "metadata": {
    "colab": {
      "name": "python知识点复习之numpy.ipynb",
      "version": "0.3.2",
      "provenance": [],
      "collapsed_sections": [],
      "include_colab_link": true
    },
    "kernelspec": {
      "name": "python3",
      "display_name": "Python 3"
    }
  },
  "cells": [
    {
      "cell_type": "markdown",
      "metadata": {
        "id": "view-in-github",
        "colab_type": "text"
      },
      "source": [
        "<a href=\"https://colab.research.google.com/github/Katherine-bq/Google/blob/master/python%E7%9F%A5%E8%AF%86%E7%82%B9%E5%A4%8D%E4%B9%A0%E4%B9%8Bnumpy.ipynb\" target=\"_parent\"><img src=\"https://colab.research.google.com/assets/colab-badge.svg\" alt=\"Open In Colab\"/></a>"
      ]
    },
    {
      "cell_type": "markdown",
      "metadata": {
        "id": "Vm1yHGk11GvX",
        "colab_type": "text"
      },
      "source": [
        "#### 1.创建数组的三种方式\n",
        "1.按步就班的 np.array() 用在列表和元组上 \n",
        "\n",
        "2.定隔定点的 np.arange() 和 np.linspace()\n",
        "\n",
        "3.一步登天的 np.ones(), np.zeros(), np.eye() 和 np.random.random()\n"
      ]
    },
    {
      "cell_type": "code",
      "metadata": {
        "id": "AjdcZPHW1q94",
        "colab_type": "code",
        "colab": {}
      },
      "source": [
        "import numpy as np"
      ],
      "execution_count": 0,
      "outputs": []
    },
    {
      "cell_type": "markdown",
      "metadata": {
        "id": "Y1YE_uA4i0Iv",
        "colab_type": "text"
      },
      "source": [
        ""
      ]
    },
    {
      "cell_type": "code",
      "metadata": {
        "id": "XPmBRAqG0-er",
        "colab_type": "code",
        "outputId": "b9d7491a-709b-4da5-8a83-29241f82a19d",
        "colab": {
          "base_uri": "https://localhost:8080/",
          "height": 34
        }
      },
      "source": [
        "#np.array()\n",
        "l = [3.5, 5, 2, 8, 4.2]\n",
        "np.array(l)"
      ],
      "execution_count": 18,
      "outputs": [
        {
          "output_type": "execute_result",
          "data": {
            "text/plain": [
              "array([3.5, 5. , 2. , 8. , 4.2])"
            ]
          },
          "metadata": {
            "tags": []
          },
          "execution_count": 18
        }
      ]
    },
    {
      "cell_type": "markdown",
      "metadata": {
        "id": "OGkpmXgT4i2r",
        "colab_type": "text"
      },
      "source": [
        "- 定隔的arange:固定元素大小间隔\n",
        "- 定点的 linspace：固定元素个数\n",
        "\n",
        "函数 arange 的参数为起点 , 终点 , 间隔\n",
        "    \n",
        "    arange(start , stop , step)\n",
        "\n",
        "其中 stop 必须要有，start 和 step 没有的话默认为 1。对着这个规则看看上面各种情况的输出。\n"
      ]
    },
    {
      "cell_type": "code",
      "metadata": {
        "id": "2sU448Vu1rAf",
        "colab_type": "code",
        "outputId": "55831c77-475a-45db-c4e3-62c2f0947e63",
        "colab": {
          "base_uri": "https://localhost:8080/",
          "height": 68
        }
      },
      "source": [
        "print( np.arange(8) )\n",
        "print( np.arange(2,8) )\n",
        "print( np.arange(2,8,2))"
      ],
      "execution_count": 19,
      "outputs": [
        {
          "output_type": "stream",
          "text": [
            "[0 1 2 3 4 5 6 7]\n",
            "[2 3 4 5 6 7]\n",
            "[2 4 6]\n"
          ],
          "name": "stdout"
        }
      ]
    },
    {
      "cell_type": "markdown",
      "metadata": {
        "id": "Wy69UZkh71l_",
        "colab_type": "text"
      },
      "source": [
        "函数 linspace 的参数为起点 , 终点 , 点数\n",
        "\n",
        "    linspace (start , stop , num)\n",
        "\n",
        "其中 start 和 stop 必须要有，num 没有的话默认为 50。对着这个规则看看上面各种情况的输出。\n"
      ]
    },
    {
      "cell_type": "code",
      "metadata": {
        "id": "SaDEDzFd1rC3",
        "colab_type": "code",
        "outputId": "8e48550d-9d8b-425b-ca83-fa6b2d2efd1e",
        "colab": {
          "base_uri": "https://localhost:8080/",
          "height": 204
        }
      },
      "source": [
        "print(np.linspace(2,5))\n",
        "print(np.linspace(2,6,3))\n",
        "print(np.linspace(3,8,11))"
      ],
      "execution_count": 20,
      "outputs": [
        {
          "output_type": "stream",
          "text": [
            "[2.         2.06122449 2.12244898 2.18367347 2.24489796 2.30612245\n",
            " 2.36734694 2.42857143 2.48979592 2.55102041 2.6122449  2.67346939\n",
            " 2.73469388 2.79591837 2.85714286 2.91836735 2.97959184 3.04081633\n",
            " 3.10204082 3.16326531 3.2244898  3.28571429 3.34693878 3.40816327\n",
            " 3.46938776 3.53061224 3.59183673 3.65306122 3.71428571 3.7755102\n",
            " 3.83673469 3.89795918 3.95918367 4.02040816 4.08163265 4.14285714\n",
            " 4.20408163 4.26530612 4.32653061 4.3877551  4.44897959 4.51020408\n",
            " 4.57142857 4.63265306 4.69387755 4.75510204 4.81632653 4.87755102\n",
            " 4.93877551 5.        ]\n",
            "[2. 4. 6.]\n",
            "[3.  3.5 4.  4.5 5.  5.5 6.  6.5 7.  7.5 8. ]\n"
          ],
          "name": "stdout"
        }
      ]
    },
    {
      "cell_type": "markdown",
      "metadata": {
        "id": "jKUlqqiS6J2k",
        "colab_type": "text"
      },
      "source": [
        "- 用 zeros() 创建全是 0 的 n 维数组\n",
        "- 用 ones() 创建全是 1 的 n 维数组\n",
        "- 用 random() 创建随机 n 维数组\n",
        "- 用 eye() 创建对角矩阵 (二维数组)"
      ]
    },
    {
      "cell_type": "code",
      "metadata": {
        "id": "vF_jr_1r1rFZ",
        "colab_type": "code",
        "outputId": "a521593e-4bc3-4855-f053-f7706cb2ccdc",
        "colab": {
          "base_uri": "https://localhost:8080/",
          "height": 255
        }
      },
      "source": [
        "\n",
        "print( np.zeros(5) ) # 标量5代表形状(5,)\n",
        "print( np.ones((2,3)) )\n",
        "print( np.random.random((2,3,4)) )\n",
        "print(np.eye(4))"
      ],
      "execution_count": 21,
      "outputs": [
        {
          "output_type": "stream",
          "text": [
            "[0. 0. 0. 0. 0.]\n",
            "[[1. 1. 1.]\n",
            " [1. 1. 1.]]\n",
            "[[[0.65434416 0.46955241 0.12291266 0.91554042]\n",
            "  [0.40846581 0.74683114 0.82582914 0.72377314]\n",
            "  [0.48169354 0.19668734 0.74486418 0.71416013]]\n",
            "\n",
            " [[0.66587912 0.47973087 0.31708785 0.74885573]\n",
            "  [0.47395965 0.16009383 0.34156511 0.47250643]\n",
            "  [0.8755907  0.96491471 0.21238332 0.771911  ]]]\n",
            "[[1. 0. 0. 0.]\n",
            " [0. 1. 0. 0.]\n",
            " [0. 0. 1. 0.]\n",
            " [0. 0. 0. 1.]]\n"
          ],
          "name": "stdout"
        }
      ]
    },
    {
      "cell_type": "markdown",
      "metadata": {
        "id": "6nzo_WD7jOaL",
        "colab_type": "text"
      },
      "source": [
        "\n",
        "\n",
        "#### 2.切片和数组\n",
        "- 切片写法是 arr[start:stop:stop]\n",
        "- 索引写法是 arr[index]\n",
        "\n",
        "切片得到的是原数组的一个视图 (view) ，修改切片中的内容会改变原数组\n",
        "\n",
        "索引得到的是原数组的一个复制 (copy)，修改索引中的内容不会改变原数组\n",
        "\n"
      ]
    },
    {
      "cell_type": "code",
      "metadata": {
        "id": "cY73R1y16XtG",
        "colab_type": "code",
        "outputId": "aefc2dcc-ccfd-49d0-8b82-3770c9bd7185",
        "colab": {
          "base_uri": "https://localhost:8080/",
          "height": 34
        }
      },
      "source": [
        "arr = np.arange(10)\n",
        "arr\n"
      ],
      "execution_count": 22,
      "outputs": [
        {
          "output_type": "execute_result",
          "data": {
            "text/plain": [
              "array([0, 1, 2, 3, 4, 5, 6, 7, 8, 9])"
            ]
          },
          "metadata": {
            "tags": []
          },
          "execution_count": 22
        }
      ]
    },
    {
      "cell_type": "code",
      "metadata": {
        "id": "n18epCp86XyP",
        "colab_type": "code",
        "outputId": "cc816b48-7ac8-44ea-f08a-dedfd2302744",
        "colab": {
          "base_uri": "https://localhost:8080/",
          "height": 34
        }
      },
      "source": [
        "#索引：不会改变原有值\n",
        "a = arr[6]\n",
        "a = 12\n",
        "arr"
      ],
      "execution_count": 23,
      "outputs": [
        {
          "output_type": "execute_result",
          "data": {
            "text/plain": [
              "array([0, 1, 2, 3, 4, 5, 6, 7, 8, 9])"
            ]
          },
          "metadata": {
            "tags": []
          },
          "execution_count": 23
        }
      ]
    },
    {
      "cell_type": "code",
      "metadata": {
        "id": "tKV3WK5E6X0z",
        "colab_type": "code",
        "outputId": "1de313d0-39f7-4370-dafd-c3ade26d7218",
        "colab": {
          "base_uri": "https://localhost:8080/",
          "height": 34
        }
      },
      "source": [
        "#切片:修改切片中内容会改变原数组\n",
        "b = arr[2:5]\n",
        "b[1] = 1111\n",
        "arr"
      ],
      "execution_count": 24,
      "outputs": [
        {
          "output_type": "execute_result",
          "data": {
            "text/plain": [
              "array([   0,    1,    2, 1111,    4,    5,    6,    7,    8,    9])"
            ]
          },
          "metadata": {
            "tags": []
          },
          "execution_count": 24
        }
      ]
    },
    {
      "cell_type": "markdown",
      "metadata": {
        "id": "RJ59rG2Wlgv2",
        "colab_type": "text"
      },
      "source": [
        "##### 2.1 布尔索引\n",
        "就是用一个由布尔 (boolean) 类型值组成的数组来选择元素的方法。"
      ]
    },
    {
      "cell_type": "code",
      "metadata": {
        "id": "byLKScwokPEz",
        "colab_type": "code",
        "colab": {}
      },
      "source": [
        "code = np.array(['BABA', 'FB', 'JD', 'BABA', 'JD', 'FB'])\n",
        "price = np.array([[170,177,169],[150,159,153],\n",
        "                  [24,27,26],[165,170,167],\n",
        "                  [22,23,20],[155,116,157]])"
      ],
      "execution_count": 0,
      "outputs": []
    },
    {
      "cell_type": "code",
      "metadata": {
        "id": "kekm8Om_lyg7",
        "colab_type": "code",
        "outputId": "8ce8c1b7-ffa9-4552-fc57-310b0369e5c1",
        "colab": {
          "base_uri": "https://localhost:8080/",
          "height": 51
        }
      },
      "source": [
        "code == 'BABA' #返回布尔值\n",
        "price[code == 'BABA']"
      ],
      "execution_count": 26,
      "outputs": [
        {
          "output_type": "execute_result",
          "data": {
            "text/plain": [
              "array([[170, 177, 169],\n",
              "       [165, 170, 167]])"
            ]
          },
          "metadata": {
            "tags": []
          },
          "execution_count": 26
        }
      ]
    },
    {
      "cell_type": "code",
      "metadata": {
        "id": "nTG8_V7clw-P",
        "colab_type": "code",
        "outputId": "e670643d-dad6-45f6-c657-a6118734acd4",
        "colab": {
          "base_uri": "https://localhost:8080/",
          "height": 85
        }
      },
      "source": [
        "price[ (code == 'FB')|(code == 'JD')]"
      ],
      "execution_count": 27,
      "outputs": [
        {
          "output_type": "execute_result",
          "data": {
            "text/plain": [
              "array([[150, 159, 153],\n",
              "       [ 24,  27,  26],\n",
              "       [ 22,  23,  20],\n",
              "       [155, 116, 157]])"
            ]
          },
          "metadata": {
            "tags": []
          },
          "execution_count": 27
        }
      ]
    },
    {
      "cell_type": "markdown",
      "metadata": {
        "id": "my-zJhjDmnkf",
        "colab_type": "text"
      },
      "source": [
        "#### 3.数组的变形\n",
        "1.重塑 (reshape) 和打平 (ravel, flatten)\n",
        "\n",
        "2.合并 (concatenate, stack) 和分裂 (split)\n",
        "\n",
        "3.重复 (repeat) 和拼接 (tile)\n",
        "\n",
        "4.其他操作 (sort, insert, delete, copy)\n",
        "\n",
        "\n",
        "重塑 (reshape) 和打平 (ravel, flatten) 这两个操作仅仅只改变数组的维度\n",
        "\n",
        "- 重塑是从低维到高维\n",
        "- 打平是从高维到低维"
      ]
    },
    {
      "cell_type": "markdown",
      "metadata": {
        "id": "A_5gWldtn8Hb",
        "colab_type": "text"
      },
      "source": [
        "##### 3.1 重塑和打平\n",
        "函数 ravel() 或 flatten() 的不同之处是：\n",
        "\n",
        "> ravel() 按「行主序」打平时没有复制原数组，按「列主序」在打平时复制了原数组；\n",
        "\n",
        "\n",
        "> flatten() 在打平时复制了原数组。"
      ]
    },
    {
      "cell_type": "code",
      "metadata": {
        "id": "gTBZO_NMn5_f",
        "colab_type": "code",
        "colab": {
          "base_uri": "https://localhost:8080/",
          "height": 102
        },
        "outputId": "c71fd3a5-9c11-410b-e298-a0d4d3dd79b0"
      },
      "source": [
        "arr1 = np.arange(12)\n",
        "print(arr1)\n",
        "print(arr1.reshape(4,3))"
      ],
      "execution_count": 28,
      "outputs": [
        {
          "output_type": "stream",
          "text": [
            "[ 0  1  2  3  4  5  6  7  8  9 10 11]\n",
            "[[ 0  1  2]\n",
            " [ 3  4  5]\n",
            " [ 6  7  8]\n",
            " [ 9 10 11]]\n"
          ],
          "name": "stdout"
        }
      ]
    },
    {
      "cell_type": "code",
      "metadata": {
        "id": "7CdyrLbRn44W",
        "colab_type": "code",
        "colab": {
          "base_uri": "https://localhost:8080/",
          "height": 34
        },
        "outputId": "3ba9f0bc-6ba3-4fb6-987a-d6735717dfcf"
      },
      "source": [
        "ravel_arr = arr1.ravel()\n",
        "ravel_arr"
      ],
      "execution_count": 29,
      "outputs": [
        {
          "output_type": "execute_result",
          "data": {
            "text/plain": [
              "array([ 0,  1,  2,  3,  4,  5,  6,  7,  8,  9, 10, 11])"
            ]
          },
          "metadata": {
            "tags": []
          },
          "execution_count": 29
        }
      ]
    },
    {
      "cell_type": "markdown",
      "metadata": {
        "id": "PeFhRIC7n2Aa",
        "colab_type": "text"
      },
      "source": [
        ""
      ]
    },
    {
      "cell_type": "code",
      "metadata": {
        "id": "cbjmV9N5lxDw",
        "colab_type": "code",
        "colab": {
          "base_uri": "https://localhost:8080/",
          "height": 34
        },
        "outputId": "884960b3-ddc6-42e0-d4cc-8df02c856cb8"
      },
      "source": [
        "flatten_arr = arr1.flatten()\n",
        "flatten_arr"
      ],
      "execution_count": 31,
      "outputs": [
        {
          "output_type": "execute_result",
          "data": {
            "text/plain": [
              "array([ 0,  1,  2,  3,  4,  5,  6,  7,  8,  9, 10, 11])"
            ]
          },
          "metadata": {
            "tags": []
          },
          "execution_count": 31
        }
      ]
    },
    {
      "cell_type": "markdown",
      "metadata": {
        "id": "wFiGVB2XsmbY",
        "colab_type": "text"
      },
      "source": [
        "##### 3.2 合并\n",
        "- 有通用的 concatenate\n",
        "- 有专门的 vstack, hstack, dstack\n",
        "- 有极简的 r_, c_"
      ]
    },
    {
      "cell_type": "code",
      "metadata": {
        "id": "ySBw-vd9slr3",
        "colab_type": "code",
        "colab": {
          "base_uri": "https://localhost:8080/",
          "height": 119
        },
        "outputId": "ba18591e-4c79-4eea-c88c-1ba641a19f15"
      },
      "source": [
        "arr1 = np.array([[1, 2, 3], [4, 5, 6]])\n",
        "arr2 = np.array([[7, 8, 9], [10, 11, 12]])\n",
        "\n",
        "\n",
        "print(np.concatenate([arr1, arr2], axis=0))\n",
        "print(np.concatenate([arr1, arr2], axis=1))"
      ],
      "execution_count": 33,
      "outputs": [
        {
          "output_type": "stream",
          "text": [
            "[[ 1  2  3]\n",
            " [ 4  5  6]\n",
            " [ 7  8  9]\n",
            " [10 11 12]]\n",
            "[[ 1  2  3  7  8  9]\n",
            " [ 4  5  6 10 11 12]]\n"
          ],
          "name": "stdout"
        }
      ]
    },
    {
      "cell_type": "markdown",
      "metadata": {
        "id": "lPYyKu5ytJiX",
        "colab_type": "text"
      },
      "source": [
        "- vstack：v 代表 vertical，竖直合并，等价于 concatenate(axis=0)\n",
        "- hstack：h 代表 horizontal，水平合并，等价于 concatenate(axis=1)\n",
        "- dstack：d 代表 depth-wise，按深度合并，深度有点像彩色照片的 RGB 通道"
      ]
    },
    {
      "cell_type": "code",
      "metadata": {
        "id": "7ykDVaGQm98F",
        "colab_type": "code",
        "colab": {
          "base_uri": "https://localhost:8080/",
          "height": 238
        },
        "outputId": "3a09c568-3190-4c13-c447-3b99eca17632"
      },
      "source": [
        "print( np.vstack((arr1, arr2)) )\n",
        "print( np.hstack((arr1, arr2)) )\n",
        "print( np.dstack((arr1, arr2)) )"
      ],
      "execution_count": 34,
      "outputs": [
        {
          "output_type": "stream",
          "text": [
            "[[ 1  2  3]\n",
            " [ 4  5  6]\n",
            " [ 7  8  9]\n",
            " [10 11 12]]\n",
            "[[ 1  2  3  7  8  9]\n",
            " [ 4  5  6 10 11 12]]\n",
            "[[[ 1  7]\n",
            "  [ 2  8]\n",
            "  [ 3  9]]\n",
            "\n",
            " [[ 4 10]\n",
            "  [ 5 11]\n",
            "  [ 6 12]]]\n"
          ],
          "name": "stdout"
        }
      ]
    },
    {
      "cell_type": "markdown",
      "metadata": {
        "id": "S7omQYNHt3rA",
        "colab_type": "text"
      },
      "source": [
        "##### 3.3 分裂\n",
        "1.有通用的 split\n",
        "\n",
        "2.有专门的 hsplit, vsplit"
      ]
    },
    {
      "cell_type": "code",
      "metadata": {
        "id": "3e8rkjSOm9_Q",
        "colab_type": "code",
        "colab": {
          "base_uri": "https://localhost:8080/",
          "height": 102
        },
        "outputId": "bdfd6d90-9bef-45f5-fc2b-4197b6a3d438"
      },
      "source": [
        "arr = np.arange(25).reshape((5,5))\n",
        "first, second, third = np.split(arr,[1,3])\n",
        "print( 'The first split is', first )\n",
        "print( 'The second split is', second )\n",
        "print( 'The third split is', third )"
      ],
      "execution_count": 35,
      "outputs": [
        {
          "output_type": "stream",
          "text": [
            "The first split is [[0 1 2 3 4]]\n",
            "The second split is [[ 5  6  7  8  9]\n",
            " [10 11 12 13 14]]\n",
            "The third split is [[15 16 17 18 19]\n",
            " [20 21 22 23 24]]\n"
          ],
          "name": "stdout"
        }
      ]
    },
    {
      "cell_type": "markdown",
      "metadata": {
        "id": "Gl_GAKAJvZ4m",
        "colab_type": "text"
      },
      "source": [
        "##### 3.4 重复和拼接\n",
        "\n",
        "重复 (repeat) 和拼接 (tile) 这两个操作本质都是复制\n",
        "\n",
        "- 重复是在元素层面复制\n",
        "- 拼接是在数组层面复制"
      ]
    },
    {
      "cell_type": "code",
      "metadata": {
        "id": "qcl8saDMm-DE",
        "colab_type": "code",
        "colab": {}
      },
      "source": [
        ""
      ],
      "execution_count": 0,
      "outputs": []
    },
    {
      "cell_type": "code",
      "metadata": {
        "id": "Igkw_8OVlxIG",
        "colab_type": "code",
        "colab": {}
      },
      "source": [
        ""
      ],
      "execution_count": 0,
      "outputs": []
    }
  ]
}