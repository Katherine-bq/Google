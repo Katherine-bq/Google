{
  "nbformat": 4,
  "nbformat_minor": 0,
  "metadata": {
    "colab": {
      "name": "python知识点复习之pandas.ipynb",
      "version": "0.3.2",
      "provenance": [],
      "include_colab_link": true
    },
    "kernelspec": {
      "name": "python3",
      "display_name": "Python 3"
    }
  },
  "cells": [
    {
      "cell_type": "markdown",
      "metadata": {
        "id": "view-in-github",
        "colab_type": "text"
      },
      "source": [
        "<a href=\"https://colab.research.google.com/github/Katherine-bq/Google/blob/master/python%E7%9F%A5%E8%AF%86%E7%82%B9%E5%A4%8D%E4%B9%A0%E4%B9%8Bpandas.ipynb\" target=\"_parent\"><img src=\"https://colab.research.google.com/assets/colab-badge.svg\" alt=\"Open In Colab\"/></a>"
      ]
    },
    {
      "cell_type": "code",
      "metadata": {
        "id": "Wps8kl8M06PX",
        "colab_type": "code",
        "colab": {}
      },
      "source": [
        "import pandas as pd\n",
        "import numpy as np"
      ],
      "execution_count": 0,
      "outputs": []
    },
    {
      "cell_type": "markdown",
      "metadata": {
        "id": "SNFnmkFr7CRQ",
        "colab_type": "text"
      },
      "source": [
        "对比 NumPy (np) 和 Pandas (pd) 每个维度下的数据结构，不难看出\n",
        "\n",
        "    pd 多维数据表 = np 多维数组 + 描述\n",
        "\n",
        "其中\n",
        "\n",
        "Series = 1darray + index\n",
        "DataFrame = 2darray + index + columns\n",
        "Panel = 3darray + index + columns + item"
      ]
    },
    {
      "cell_type": "markdown",
      "metadata": {
        "id": "iiwHqcju7alG",
        "colab_type": "text"
      },
      "source": [
        "#### 1.创建\n",
        "- Series: 一维数据，类似于 python 中的基本数据的 list 或 NumPy 中的 1D array。Pandas 里最基本的数据结构\n",
        "\n",
        "- DataFrame: 二维数据，类似于 R 中的 data.frame 或 Matlab 中的 Tables。DataFrame 是 Series 的容器\n",
        "\n",
        "- Panel：三维数据。Panel 是 DataFrame 的容器"
      ]
    },
    {
      "cell_type": "markdown",
      "metadata": {
        "id": "Mvk3YfN2-ue-",
        "colab_type": "text"
      },
      "source": [
        "##### 1.1 Seris\n",
        "创建 Series 只需用下面一行代码\n",
        "\n",
        "    pd.Series( x, index=idx )\n",
        "其中x 是位置参数，index 是默认参数，默认值为 idx=range(0, len(x))\n",
        "\n",
        "其中 x 可以是\n",
        "\n",
        "列表 (list)\n",
        "\n",
        "numpy 数组 (ndarray)\n",
        "\n",
        "字典 (dict)\n",
        "\n"
      ]
    },
    {
      "cell_type": "code",
      "metadata": {
        "id": "uT11CMni1c3Q",
        "colab_type": "code",
        "colab": {}
      },
      "source": [
        "s = pd.Series([27.2, 27.65, 27.70, 28])"
      ],
      "execution_count": 0,
      "outputs": []
    },
    {
      "cell_type": "code",
      "metadata": {
        "id": "5gUdPR9yeIs7",
        "colab_type": "code",
        "outputId": "fdcd30e6-3cbd-4c5f-999a-2f70715ec037",
        "colab": {
          "base_uri": "https://localhost:8080/"
        }
      },
      "source": [
        "#用日期当索引\n",
        "dates = pd.date_range('20190401',periods=4)\n",
        "s2 = pd.Series([27.2, 27.65, 27.70, 28],index=dates)\n",
        "s2"
      ],
      "execution_count": 0,
      "outputs": [
        {
          "output_type": "execute_result",
          "data": {
            "text/plain": [
              "2019-04-01    27.20\n",
              "2019-04-02    27.65\n",
              "2019-04-03    27.70\n",
              "2019-04-04    28.00\n",
              "Freq: D, dtype: float64"
            ]
          },
          "metadata": {
            "tags": []
          },
          "execution_count": 3
        }
      ]
    },
    {
      "cell_type": "markdown",
      "metadata": {
        "id": "HSIM-ucTgjiI",
        "colab_type": "text"
      },
      "source": [
        "- 用字典创建series\n",
        "\n",
        "创建 Series 还可以用字典。字典的「键值对」的「键」自动变成了 Series 的索引 (index)，而「值」自动变成了Series 的值 (values)。"
      ]
    },
    {
      "cell_type": "code",
      "metadata": {
        "id": "1Jb0Biqg5nnx",
        "colab_type": "code",
        "outputId": "440931a3-6c82-4b03-8d28-35c0cc781d8c",
        "colab": {
          "base_uri": "https://localhost:8080/"
        }
      },
      "source": [
        "dict = { 'BABA': 187.07, 'PDD': 21.83, 'JD': 30.79, 'BIDU': 184.77 }\n",
        "s3 = pd.Series(dict,name='中概股')\n",
        "s3.index.name = '股票代号'\n",
        "s3"
      ],
      "execution_count": 0,
      "outputs": [
        {
          "output_type": "execute_result",
          "data": {
            "text/plain": [
              "股票代号\n",
              "BABA    187.07\n",
              "PDD      21.83\n",
              "JD       30.79\n",
              "BIDU    184.77\n",
              "Name: 中概股, dtype: float64"
            ]
          },
          "metadata": {
            "tags": []
          },
          "execution_count": 4
        }
      ]
    },
    {
      "cell_type": "code",
      "metadata": {
        "id": "Am6Uqqk_g9kw",
        "colab_type": "code",
        "outputId": "5d65fb99-a2ea-4c62-ce17-b975ac9a357b",
        "colab": {
          "base_uri": "https://localhost:8080/"
        }
      },
      "source": [
        "sdata = {'BABA':160,'PDD':28,'JD':25}\n",
        "stock = ['FB', 'BABA', 'PDD', 'JD']\n",
        "s4 = pd.Series( sdata, index=stock )\n",
        "s4"
      ],
      "execution_count": 0,
      "outputs": [
        {
          "output_type": "execute_result",
          "data": {
            "text/plain": [
              "FB        NaN\n",
              "BABA    160.0\n",
              "PDD      28.0\n",
              "JD       25.0\n",
              "dtype: float64"
            ]
          },
          "metadata": {
            "tags": []
          },
          "execution_count": 5
        }
      ]
    },
    {
      "cell_type": "code",
      "metadata": {
        "id": "8VNWGorklqTx",
        "colab_type": "code",
        "outputId": "277356eb-bae3-4752-aee7-0d4b564e2af4",
        "colab": {
          "base_uri": "https://localhost:8080/"
        }
      },
      "source": [
        "s3+s4"
      ],
      "execution_count": 0,
      "outputs": [
        {
          "output_type": "execute_result",
          "data": {
            "text/plain": [
              "BABA    347.07\n",
              "BIDU       NaN\n",
              "FB         NaN\n",
              "JD       55.79\n",
              "PDD      49.83\n",
              "dtype: float64"
            ]
          },
          "metadata": {
            "tags": []
          },
          "execution_count": 6
        }
      ]
    },
    {
      "cell_type": "markdown",
      "metadata": {
        "id": "b600yk1EmVET",
        "colab_type": "text"
      },
      "source": [
        "##### 1.2 Dataframe\n",
        "创建 DataFrame 只需用下面一行代码\n",
        "\n",
        "    pd.DataFrame( x, index=idx,columns=col )\n",
        "\n",
        "其中 x 可以是\n",
        "\n",
        "- 二维列表 (list)\n",
        "- 二维 numpy 数组 (ndarray)\n",
        "- 字典 (dict)，其值是一维列表、numpy 数组或 Series\n",
        "- 另外一个 DataFrame"
      ]
    },
    {
      "cell_type": "code",
      "metadata": {
        "id": "cEUjSu7cmBbo",
        "colab_type": "code",
        "outputId": "e1e08969-3298-4ce8-a9a2-00934b7e5b82",
        "colab": {
          "base_uri": "https://localhost:8080/"
        }
      },
      "source": [
        "#用列表或numpy数组\n",
        "df1 = pd.DataFrame( [[1, 2, 3], [4, 5, 6]] )\n",
        "df2 = pd.DataFrame( np.array([[1, 2, 3], [4, 5, 6]]) )\n",
        "print(df1)\n",
        "print(df2)"
      ],
      "execution_count": 0,
      "outputs": [
        {
          "output_type": "stream",
          "text": [
            "   0  1  2\n",
            "0  1  2  3\n",
            "1  4  5  6\n",
            "   0  1  2\n",
            "0  1  2  3\n",
            "1  4  5  6\n"
          ],
          "name": "stdout"
        }
      ]
    },
    {
      "cell_type": "code",
      "metadata": {
        "id": "XzjqGFl5Avg7",
        "colab_type": "code",
        "outputId": "bd59c4a9-4c1f-44ce-dc86-7eaa9ed21b88",
        "colab": {
          "base_uri": "https://localhost:8080/"
        }
      },
      "source": [
        "#使用字典创建\n",
        "symbol = ['BABA', 'JD', 'AAPL', 'MS', 'GS', 'WMT']\n",
        "data = {'行业': ['电商', '电商', '科技', '金融', '金融', '零售'],\n",
        "        '价格': [176.92, 25.95, 172.97, 41.79, 196.00, 99.55],\n",
        "        '交易量': [16175610, 27113291, 18913154, 10132145, 2626634, 8086946],\n",
        "        '雇员': [101550, 175336, 100000, 60348, 36600, 2200000]}\n",
        "df3 = pd.DataFrame(data,index=symbol)\n",
        "df3.index.name='代号'\n",
        "df3"
      ],
      "execution_count": 0,
      "outputs": [
        {
          "output_type": "execute_result",
          "data": {
            "text/html": [
              "<div>\n",
              "<style scoped>\n",
              "    .dataframe tbody tr th:only-of-type {\n",
              "        vertical-align: middle;\n",
              "    }\n",
              "\n",
              "    .dataframe tbody tr th {\n",
              "        vertical-align: top;\n",
              "    }\n",
              "\n",
              "    .dataframe thead th {\n",
              "        text-align: right;\n",
              "    }\n",
              "</style>\n",
              "<table border=\"1\" class=\"dataframe\">\n",
              "  <thead>\n",
              "    <tr style=\"text-align: right;\">\n",
              "      <th></th>\n",
              "      <th>行业</th>\n",
              "      <th>价格</th>\n",
              "      <th>交易量</th>\n",
              "      <th>雇员</th>\n",
              "    </tr>\n",
              "    <tr>\n",
              "      <th>代号</th>\n",
              "      <th></th>\n",
              "      <th></th>\n",
              "      <th></th>\n",
              "      <th></th>\n",
              "    </tr>\n",
              "  </thead>\n",
              "  <tbody>\n",
              "    <tr>\n",
              "      <th>BABA</th>\n",
              "      <td>电商</td>\n",
              "      <td>176.92</td>\n",
              "      <td>16175610</td>\n",
              "      <td>101550</td>\n",
              "    </tr>\n",
              "    <tr>\n",
              "      <th>JD</th>\n",
              "      <td>电商</td>\n",
              "      <td>25.95</td>\n",
              "      <td>27113291</td>\n",
              "      <td>175336</td>\n",
              "    </tr>\n",
              "    <tr>\n",
              "      <th>AAPL</th>\n",
              "      <td>科技</td>\n",
              "      <td>172.97</td>\n",
              "      <td>18913154</td>\n",
              "      <td>100000</td>\n",
              "    </tr>\n",
              "    <tr>\n",
              "      <th>MS</th>\n",
              "      <td>金融</td>\n",
              "      <td>41.79</td>\n",
              "      <td>10132145</td>\n",
              "      <td>60348</td>\n",
              "    </tr>\n",
              "    <tr>\n",
              "      <th>GS</th>\n",
              "      <td>金融</td>\n",
              "      <td>196.00</td>\n",
              "      <td>2626634</td>\n",
              "      <td>36600</td>\n",
              "    </tr>\n",
              "    <tr>\n",
              "      <th>WMT</th>\n",
              "      <td>零售</td>\n",
              "      <td>99.55</td>\n",
              "      <td>8086946</td>\n",
              "      <td>2200000</td>\n",
              "    </tr>\n",
              "  </tbody>\n",
              "</table>\n",
              "</div>"
            ],
            "text/plain": [
              "      行业      价格       交易量       雇员\n",
              "代号                                 \n",
              "BABA  电商  176.92  16175610   101550\n",
              "JD    电商   25.95  27113291   175336\n",
              "AAPL  科技  172.97  18913154   100000\n",
              "MS    金融   41.79  10132145    60348\n",
              "GS    金融  196.00   2626634    36600\n",
              "WMT   零售   99.55   8086946  2200000"
            ]
          },
          "metadata": {
            "tags": []
          },
          "execution_count": 8
        }
      ]
    },
    {
      "cell_type": "code",
      "metadata": {
        "id": "sBgSAJyNBm_B",
        "colab_type": "code",
        "outputId": "6e209969-4b8e-4bb3-cd24-55e7d006d33a",
        "colab": {
          "base_uri": "https://localhost:8080/"
        }
      },
      "source": [
        "df3.values"
      ],
      "execution_count": 0,
      "outputs": [
        {
          "output_type": "execute_result",
          "data": {
            "text/plain": [
              "array([['电商', 176.92, 16175610, 101550],\n",
              "       ['电商', 25.95, 27113291, 175336],\n",
              "       ['科技', 172.97, 18913154, 100000],\n",
              "       ['金融', 41.79, 10132145, 60348],\n",
              "       ['金融', 196.0, 2626634, 36600],\n",
              "       ['零售', 99.55, 8086946, 2200000]], dtype=object)"
            ]
          },
          "metadata": {
            "tags": []
          },
          "execution_count": 9
        }
      ]
    },
    {
      "cell_type": "markdown",
      "metadata": {
        "id": "xZXl-l_uK9WS",
        "colab_type": "text"
      },
      "source": [
        "#### 2.合并和拼接\n",
        "- 左连接 (left join)：合并之后显示 df1 的所有行\n",
        "- 右连接 (right join)：合并之后显示 df2 的所有行\n",
        "- 外连接 (outer join)：合并 df1 和 df2 共有的所有行\n",
        "- 内连接 (inner join)：合并所有行 (默认情况)"
      ]
    },
    {
      "cell_type": "markdown",
      "metadata": {
        "id": "Er-YLsONPtX_",
        "colab_type": "text"
      },
      "source": [
        "#####合并"
      ]
    },
    {
      "cell_type": "code",
      "metadata": {
        "id": "RJgd5o_bCqtw",
        "colab_type": "code",
        "colab": {
          "base_uri": "https://localhost:8080/",
          "height": 204
        },
        "outputId": "246382b1-4cb8-4d46-fed2-11dd25d34881"
      },
      "source": [
        "#多键合并，键合并用的语法和单键合并一样，只不过 on=c 中的 c 是多栏。\n",
        "\n",
        "porfolio1 = pd.DataFrame({'Asset': ['FX', 'FX', 'IR'], \n",
        "                          'Instrument': ['Option', 'Swap', 'Option'], \n",
        "                          'Number': [1, 2, 3]})\n",
        "porfolio2 = pd.DataFrame({'Asset': ['FX', 'FX', 'FX', 'IR'], \n",
        "                          'Instrument': ['Option', 'Option', 'Swap', 'Swap'], \n",
        "                          'Number': [4, 5, 6, 7]})\n",
        "pd.merge(porfolio1,porfolio2,on=['Asset','Instrument'],how='outer',suffixes = ('1','2'))"
      ],
      "execution_count": 14,
      "outputs": [
        {
          "output_type": "execute_result",
          "data": {
            "text/html": [
              "<div>\n",
              "<style scoped>\n",
              "    .dataframe tbody tr th:only-of-type {\n",
              "        vertical-align: middle;\n",
              "    }\n",
              "\n",
              "    .dataframe tbody tr th {\n",
              "        vertical-align: top;\n",
              "    }\n",
              "\n",
              "    .dataframe thead th {\n",
              "        text-align: right;\n",
              "    }\n",
              "</style>\n",
              "<table border=\"1\" class=\"dataframe\">\n",
              "  <thead>\n",
              "    <tr style=\"text-align: right;\">\n",
              "      <th></th>\n",
              "      <th>Asset</th>\n",
              "      <th>Instrument</th>\n",
              "      <th>Number1</th>\n",
              "      <th>Number2</th>\n",
              "    </tr>\n",
              "  </thead>\n",
              "  <tbody>\n",
              "    <tr>\n",
              "      <th>0</th>\n",
              "      <td>FX</td>\n",
              "      <td>Option</td>\n",
              "      <td>1.0</td>\n",
              "      <td>4.0</td>\n",
              "    </tr>\n",
              "    <tr>\n",
              "      <th>1</th>\n",
              "      <td>FX</td>\n",
              "      <td>Option</td>\n",
              "      <td>1.0</td>\n",
              "      <td>5.0</td>\n",
              "    </tr>\n",
              "    <tr>\n",
              "      <th>2</th>\n",
              "      <td>FX</td>\n",
              "      <td>Swap</td>\n",
              "      <td>2.0</td>\n",
              "      <td>6.0</td>\n",
              "    </tr>\n",
              "    <tr>\n",
              "      <th>3</th>\n",
              "      <td>IR</td>\n",
              "      <td>Option</td>\n",
              "      <td>3.0</td>\n",
              "      <td>NaN</td>\n",
              "    </tr>\n",
              "    <tr>\n",
              "      <th>4</th>\n",
              "      <td>IR</td>\n",
              "      <td>Swap</td>\n",
              "      <td>NaN</td>\n",
              "      <td>7.0</td>\n",
              "    </tr>\n",
              "  </tbody>\n",
              "</table>\n",
              "</div>"
            ],
            "text/plain": [
              "  Asset Instrument  Number1  Number2\n",
              "0    FX     Option      1.0      4.0\n",
              "1    FX     Option      1.0      5.0\n",
              "2    FX       Swap      2.0      6.0\n",
              "3    IR     Option      3.0      NaN\n",
              "4    IR       Swap      NaN      7.0"
            ]
          },
          "metadata": {
            "tags": []
          },
          "execution_count": 14
        }
      ]
    },
    {
      "cell_type": "markdown",
      "metadata": {
        "id": "MyjgDpDWPxJI",
        "colab_type": "text"
      },
      "source": [
        "#####重塑和透视\n",
        "重塑 (reshape) 和透视 (pivot) 两个操作只改变数据表的布局 (layout)：\n",
        "\n",
        "重塑用 stack 和 unstack 函数 (互为逆转操作)\n",
        "\n",
        "透视用 pivot 和 melt 函数 (互为逆转操作)"
      ]
    },
    {
      "cell_type": "code",
      "metadata": {
        "id": "Bo1g2VCiEzn_",
        "colab_type": "code",
        "colab": {}
      },
      "source": [
        "dates = pd.date_range('20190221',periods=3)\n",
        "data = pd.DataFrame({'symbol':[153,234,45],\n",
        "             'open':[54,65,12],\n",
        "             'low':[24,54,12]})\n",
        "\n",
        "data['date'] = dates"
      ],
      "execution_count": 0,
      "outputs": []
    },
    {
      "cell_type": "code",
      "metadata": {
        "id": "uFJ8R0AiE30v",
        "colab_type": "code",
        "colab": {
          "base_uri": "https://localhost:8080/",
          "height": 142
        },
        "outputId": "feacb270-41c8-4c95-8d19-a8d85f9db4e1"
      },
      "source": [
        "data"
      ],
      "execution_count": 23,
      "outputs": [
        {
          "output_type": "execute_result",
          "data": {
            "text/html": [
              "<div>\n",
              "<style scoped>\n",
              "    .dataframe tbody tr th:only-of-type {\n",
              "        vertical-align: middle;\n",
              "    }\n",
              "\n",
              "    .dataframe tbody tr th {\n",
              "        vertical-align: top;\n",
              "    }\n",
              "\n",
              "    .dataframe thead th {\n",
              "        text-align: right;\n",
              "    }\n",
              "</style>\n",
              "<table border=\"1\" class=\"dataframe\">\n",
              "  <thead>\n",
              "    <tr style=\"text-align: right;\">\n",
              "      <th></th>\n",
              "      <th>symbol</th>\n",
              "      <th>open</th>\n",
              "      <th>low</th>\n",
              "      <th>date</th>\n",
              "    </tr>\n",
              "  </thead>\n",
              "  <tbody>\n",
              "    <tr>\n",
              "      <th>0</th>\n",
              "      <td>153</td>\n",
              "      <td>54</td>\n",
              "      <td>24</td>\n",
              "      <td>2019-02-21</td>\n",
              "    </tr>\n",
              "    <tr>\n",
              "      <th>1</th>\n",
              "      <td>234</td>\n",
              "      <td>65</td>\n",
              "      <td>54</td>\n",
              "      <td>2019-02-22</td>\n",
              "    </tr>\n",
              "    <tr>\n",
              "      <th>2</th>\n",
              "      <td>45</td>\n",
              "      <td>12</td>\n",
              "      <td>12</td>\n",
              "      <td>2019-02-23</td>\n",
              "    </tr>\n",
              "  </tbody>\n",
              "</table>\n",
              "</div>"
            ],
            "text/plain": [
              "   symbol  open  low       date\n",
              "0     153    54   24 2019-02-21\n",
              "1     234    65   54 2019-02-22\n",
              "2      45    12   12 2019-02-23"
            ]
          },
          "metadata": {
            "tags": []
          },
          "execution_count": 23
        }
      ]
    },
    {
      "cell_type": "code",
      "metadata": {
        "id": "7RUHxGJ6W7il",
        "colab_type": "code",
        "colab": {
          "base_uri": "https://localhost:8080/",
          "height": 204
        },
        "outputId": "89d13590-1681-450c-84d1-84e19bb5ba5d"
      },
      "source": [
        "data.pivot(index='date',columns = 'symbol',values=['low','open'])"
      ],
      "execution_count": 29,
      "outputs": [
        {
          "output_type": "execute_result",
          "data": {
            "text/html": [
              "<div>\n",
              "<style scoped>\n",
              "    .dataframe tbody tr th:only-of-type {\n",
              "        vertical-align: middle;\n",
              "    }\n",
              "\n",
              "    .dataframe tbody tr th {\n",
              "        vertical-align: top;\n",
              "    }\n",
              "\n",
              "    .dataframe thead tr th {\n",
              "        text-align: left;\n",
              "    }\n",
              "\n",
              "    .dataframe thead tr:last-of-type th {\n",
              "        text-align: right;\n",
              "    }\n",
              "</style>\n",
              "<table border=\"1\" class=\"dataframe\">\n",
              "  <thead>\n",
              "    <tr>\n",
              "      <th></th>\n",
              "      <th colspan=\"3\" halign=\"left\">low</th>\n",
              "      <th colspan=\"3\" halign=\"left\">open</th>\n",
              "    </tr>\n",
              "    <tr>\n",
              "      <th>symbol</th>\n",
              "      <th>45</th>\n",
              "      <th>153</th>\n",
              "      <th>234</th>\n",
              "      <th>45</th>\n",
              "      <th>153</th>\n",
              "      <th>234</th>\n",
              "    </tr>\n",
              "    <tr>\n",
              "      <th>date</th>\n",
              "      <th></th>\n",
              "      <th></th>\n",
              "      <th></th>\n",
              "      <th></th>\n",
              "      <th></th>\n",
              "      <th></th>\n",
              "    </tr>\n",
              "  </thead>\n",
              "  <tbody>\n",
              "    <tr>\n",
              "      <th>2019-02-21</th>\n",
              "      <td>NaN</td>\n",
              "      <td>24.0</td>\n",
              "      <td>NaN</td>\n",
              "      <td>NaN</td>\n",
              "      <td>54.0</td>\n",
              "      <td>NaN</td>\n",
              "    </tr>\n",
              "    <tr>\n",
              "      <th>2019-02-22</th>\n",
              "      <td>NaN</td>\n",
              "      <td>NaN</td>\n",
              "      <td>54.0</td>\n",
              "      <td>NaN</td>\n",
              "      <td>NaN</td>\n",
              "      <td>65.0</td>\n",
              "    </tr>\n",
              "    <tr>\n",
              "      <th>2019-02-23</th>\n",
              "      <td>12.0</td>\n",
              "      <td>NaN</td>\n",
              "      <td>NaN</td>\n",
              "      <td>12.0</td>\n",
              "      <td>NaN</td>\n",
              "      <td>NaN</td>\n",
              "    </tr>\n",
              "  </tbody>\n",
              "</table>\n",
              "</div>"
            ],
            "text/plain": [
              "             low              open            \n",
              "symbol       45    153   234   45    153   234\n",
              "date                                          \n",
              "2019-02-21   NaN  24.0   NaN   NaN  54.0   NaN\n",
              "2019-02-22   NaN   NaN  54.0   NaN   NaN  65.0\n",
              "2019-02-23  12.0   NaN   NaN  12.0   NaN   NaN"
            ]
          },
          "metadata": {
            "tags": []
          },
          "execution_count": 29
        }
      ]
    },
    {
      "cell_type": "code",
      "metadata": {
        "id": "p5dA2SWzXpna",
        "colab_type": "code",
        "colab": {
          "base_uri": "https://localhost:8080/",
          "height": 102
        },
        "outputId": "25cfe1a5-c9b9-42cf-bc3e-d220f82f19db"
      },
      "source": [
        "groupd = data.groupby('low')\n",
        "groupd.size()"
      ],
      "execution_count": 34,
      "outputs": [
        {
          "output_type": "execute_result",
          "data": {
            "text/plain": [
              "low\n",
              "12    1\n",
              "24    1\n",
              "54    1\n",
              "dtype: int64"
            ]
          },
          "metadata": {
            "tags": []
          },
          "execution_count": 34
        }
      ]
    },
    {
      "cell_type": "code",
      "metadata": {
        "id": "XlEqEFkIXpkM",
        "colab_type": "code",
        "colab": {
          "base_uri": "https://localhost:8080/",
          "height": 119
        },
        "outputId": "ba205e44-7e57-4ebd-8c48-ac2f37e0c238"
      },
      "source": [
        "for i in groupd:\n",
        "  print(i)"
      ],
      "execution_count": 33,
      "outputs": [
        {
          "output_type": "stream",
          "text": [
            "(12,    symbol  open  low       date\n",
            "2      45    12   12 2019-02-23)\n",
            "(24,    symbol  open  low       date\n",
            "0     153    54   24 2019-02-21)\n",
            "(54,    symbol  open  low       date\n",
            "1     234    65   54 2019-02-22)\n"
          ],
          "name": "stdout"
        }
      ]
    },
    {
      "cell_type": "code",
      "metadata": {
        "id": "2ttmykQyXpYy",
        "colab_type": "code",
        "colab": {
          "base_uri": "https://localhost:8080/",
          "height": 173
        },
        "outputId": "6ac68ef2-908d-4022-fc1d-ae491fbcbe1e"
      },
      "source": [
        "#整合还可以用内置函数 aggregate() 或 agg() 作用到「组对象」上\n",
        "groupd.agg(np.mean)"
      ],
      "execution_count": 35,
      "outputs": [
        {
          "output_type": "execute_result",
          "data": {
            "text/html": [
              "<div>\n",
              "<style scoped>\n",
              "    .dataframe tbody tr th:only-of-type {\n",
              "        vertical-align: middle;\n",
              "    }\n",
              "\n",
              "    .dataframe tbody tr th {\n",
              "        vertical-align: top;\n",
              "    }\n",
              "\n",
              "    .dataframe thead th {\n",
              "        text-align: right;\n",
              "    }\n",
              "</style>\n",
              "<table border=\"1\" class=\"dataframe\">\n",
              "  <thead>\n",
              "    <tr style=\"text-align: right;\">\n",
              "      <th></th>\n",
              "      <th>symbol</th>\n",
              "      <th>open</th>\n",
              "    </tr>\n",
              "    <tr>\n",
              "      <th>low</th>\n",
              "      <th></th>\n",
              "      <th></th>\n",
              "    </tr>\n",
              "  </thead>\n",
              "  <tbody>\n",
              "    <tr>\n",
              "      <th>12</th>\n",
              "      <td>45</td>\n",
              "      <td>12</td>\n",
              "    </tr>\n",
              "    <tr>\n",
              "      <th>24</th>\n",
              "      <td>153</td>\n",
              "      <td>54</td>\n",
              "    </tr>\n",
              "    <tr>\n",
              "      <th>54</th>\n",
              "      <td>234</td>\n",
              "      <td>65</td>\n",
              "    </tr>\n",
              "  </tbody>\n",
              "</table>\n",
              "</div>"
            ],
            "text/plain": [
              "     symbol  open\n",
              "low              \n",
              "12       45    12\n",
              "24      153    54\n",
              "54      234    65"
            ]
          },
          "metadata": {
            "tags": []
          },
          "execution_count": 35
        }
      ]
    },
    {
      "cell_type": "code",
      "metadata": {
        "id": "Ez2c7o42iUAd",
        "colab_type": "code",
        "colab": {}
      },
      "source": [
        ""
      ],
      "execution_count": 0,
      "outputs": []
    },
    {
      "cell_type": "markdown",
      "metadata": {
        "id": "llKdNLs_K8I9",
        "colab_type": "text"
      },
      "source": [
        ""
      ]
    }
  ]
}