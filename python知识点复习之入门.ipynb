{
  "nbformat": 4,
  "nbformat_minor": 0,
  "metadata": {
    "colab": {
      "name": "python知识点复习之入门.ipynb",
      "version": "0.3.2",
      "provenance": [],
      "include_colab_link": true
    },
    "kernelspec": {
      "name": "python3",
      "display_name": "Python 3"
    }
  },
  "cells": [
    {
      "cell_type": "markdown",
      "metadata": {
        "id": "view-in-github",
        "colab_type": "text"
      },
      "source": [
        "<a href=\"https://colab.research.google.com/github/Katherine-bq/Google/blob/master/python%E7%9F%A5%E8%AF%86%E7%82%B9%E5%A4%8D%E4%B9%A0%E4%B9%8B%E5%85%A5%E9%97%A8.ipynb\" target=\"_parent\"><img src=\"https://colab.research.google.com/assets/colab-badge.svg\" alt=\"Open In Colab\"/></a>"
      ]
    },
    {
      "cell_type": "markdown",
      "metadata": {
        "id": "0zOkSsFuitfh",
        "colab_type": "text"
      },
      "source": [
        "##### 1.匿名函数 lambda\n",
        "![image1](http://ww1.sinaimg.cn/large/006XAYQkly1g301wgdue5j30u009g74k.jpg)\n",
        "\n"
      ]
    },
    {
      "cell_type": "code",
      "metadata": {
        "id": "jjoiDIS1ilY0",
        "colab_type": "code",
        "colab": {
          "base_uri": "https://localhost:8080/",
          "height": 34
        },
        "outputId": "d80adaac-b510-49ca-9289-e90799282bcd"
      },
      "source": [
        "func = lambda *args:sum(args)\n",
        "func(1,2,3,4,5)"
      ],
      "execution_count": 2,
      "outputs": [
        {
          "output_type": "execute_result",
          "data": {
            "text/plain": [
              "15"
            ]
          },
          "metadata": {
            "tags": []
          },
          "execution_count": 2
        }
      ]
    },
    {
      "cell_type": "markdown",
      "metadata": {
        "id": "zY3BoAkGlngR",
        "colab_type": "text"
      },
      "source": [
        "##### 2.高阶函数\n",
        "高阶函数 (high-order function) 在函数化编程 (functional programming) 很常见，主要有两种形式：\n",
        "\n",
        "1.参数是函数 (map, filter, reduce)\n",
        "\n",
        "2.返回值是函数 (closure, partial, currying)"
      ]
    },
    {
      "cell_type": "markdown",
      "metadata": {
        "id": "9kV755B3pZH0",
        "colab_type": "text"
      },
      "source": [
        "首先看看 map, filter 和 reduce 的语法：map和filter都是返回迭代器\n",
        "\n",
        "- map(函数 f, 序列 x)：对序列 x 中每个元素依次执行函数 f，将 f(x) 组成一个「map 对象」返回 (可以将其转换成 list 或 set)\n",
        "\n",
        "- filter(函数 f, 序列 x)：对序列 x 中每个元素依次执行函数 f，将 f(x) 为 True 的结果组成一个「filter 对象」返回 (可以将其转换成 list 或 set)\n",
        "\n",
        "- reduce(函数 f, 序列 x)：对序列 x 的第一个和第二个元素执行函数 f，得到的结果和序列 x 的下一个元素执行函数 f，一直遍历完的序列 x 所有元素。"
      ]
    },
    {
      "cell_type": "code",
      "metadata": {
        "id": "9Ix9e8ebipHh",
        "colab_type": "code",
        "colab": {
          "base_uri": "https://localhost:8080/",
          "height": 51
        },
        "outputId": "9b22169c-24d0-42cd-959f-15697494b15e"
      },
      "source": [
        "#map示例\n",
        "lst = [1,2,3,4,5]\n",
        "map_iter = map(lambda x : x**2,lst)\n",
        "print(map_iter)\n",
        "print(list(map_iter))"
      ],
      "execution_count": 3,
      "outputs": [
        {
          "output_type": "stream",
          "text": [
            "<map object at 0x7f137c127400>\n",
            "[1, 4, 9, 16, 25]\n"
          ],
          "name": "stdout"
        }
      ]
    },
    {
      "cell_type": "code",
      "metadata": {
        "id": "dbcoigCYrREL",
        "colab_type": "code",
        "colab": {
          "base_uri": "https://localhost:8080/",
          "height": 51
        },
        "outputId": "be3dedc0-46e2-4874-df4b-154ceb1a4d8e"
      },
      "source": [
        "filter_iter = filter(lambda x:x%2 == 1,lst)\n",
        "print(filter_iter)\n",
        "print(list(filter_iter))"
      ],
      "execution_count": 4,
      "outputs": [
        {
          "output_type": "stream",
          "text": [
            "<filter object at 0x7f137c127358>\n",
            "[1, 3, 5]\n"
          ],
          "name": "stdout"
        }
      ]
    },
    {
      "cell_type": "code",
      "metadata": {
        "id": "3G9L8vmWrNST",
        "colab_type": "code",
        "colab": {
          "base_uri": "https://localhost:8080/",
          "height": 34
        },
        "outputId": "25a9763c-511d-4f86-876b-5930c11a647b"
      },
      "source": [
        "from functools import reduce\n",
        "reduce(lambda x,y : x+y,lst)"
      ],
      "execution_count": 5,
      "outputs": [
        {
          "output_type": "execute_result",
          "data": {
            "text/plain": [
              "15"
            ]
          },
          "metadata": {
            "tags": []
          },
          "execution_count": 5
        }
      ]
    },
    {
      "cell_type": "markdown",
      "metadata": {
        "id": "qx4SG_B7toXG",
        "colab_type": "text"
      },
      "source": [
        "##### 3.列表解析式\n",
        "相对应的还有字典解析式，集合解析式"
      ]
    },
    {
      "cell_type": "code",
      "metadata": {
        "id": "bnPH8K2WipRW",
        "colab_type": "code",
        "colab": {
          "base_uri": "https://localhost:8080/",
          "height": 34
        },
        "outputId": "1aea0bc7-1de8-49f5-fd45-de64a0855216"
      },
      "source": [
        "lst2 = [1,2,3,4,5]\n",
        "[i for i in lst2 if i%2 == 1]"
      ],
      "execution_count": 11,
      "outputs": [
        {
          "output_type": "execute_result",
          "data": {
            "text/plain": [
              "[1, 3, 5]"
            ]
          },
          "metadata": {
            "tags": []
          },
          "execution_count": 11
        }
      ]
    },
    {
      "cell_type": "code",
      "metadata": {
        "id": "plc0N1_pipWy",
        "colab_type": "code",
        "colab": {
          "base_uri": "https://localhost:8080/",
          "height": 34
        },
        "outputId": "bcdbfc4b-9320-467a-b01e-4fe1b8462533"
      },
      "source": [
        "odds = [n * 2 for n in lst2 if n % 2 == 1]\n",
        "odds"
      ],
      "execution_count": 12,
      "outputs": [
        {
          "output_type": "execute_result",
          "data": {
            "text/plain": [
              "[2, 6, 10]"
            ]
          },
          "metadata": {
            "tags": []
          },
          "execution_count": 12
        }
      ]
    },
    {
      "cell_type": "code",
      "metadata": {
        "id": "eWPni_DxipZ6",
        "colab_type": "code",
        "colab": {}
      },
      "source": [
        "\n"
      ],
      "execution_count": 0,
      "outputs": []
    },
    {
      "cell_type": "code",
      "metadata": {
        "id": "uiXgQoRZzuPf",
        "colab_type": "code",
        "colab": {}
      },
      "source": [
        ""
      ],
      "execution_count": 0,
      "outputs": []
    }
  ]
}